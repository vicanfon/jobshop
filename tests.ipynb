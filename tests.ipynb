{
 "cells": [
  {
   "cell_type": "code",
   "execution_count": 15,
   "metadata": {},
   "outputs": [],
   "source": [
    "from gym_jobshop import *\n",
    "import pandas as pd\n",
    "import numpy as np\n",
    "from machineNN import machineNN\n",
    "from eventSimulator import eventSimulator\n",
    "\n",
    "# create environment\n",
    "env = gym.make('JobShop-v0')\n",
    "\n",
    "# Read data and pass it to the environment\n",
    "df_Machines = pd.read_csv(\"./data/Machines.csv\", delimiter=',')\n",
    "df_Orders = pd.read_csv(\"./data/Orders.csv\", delimiter=',')\n",
    "df_Products = pd.read_csv(\"./data/Products.csv\", delimiter=',')\n",
    "df_Routes = pd.read_csv(\"./data/Routes.csv\", delimiter=',')"
   ]
  },
  {
   "cell_type": "code",
   "execution_count": 17,
   "metadata": {},
   "outputs": [
    {
     "data": {
      "text/plain": [
       "RangeIndex(start=0, stop=10, step=1)"
      ]
     },
     "execution_count": 17,
     "metadata": {},
     "output_type": "execute_result"
    }
   ],
   "source": [
    "df_Machines.index"
   ]
  }
 ],
 "metadata": {
  "kernelspec": {
   "display_name": "Python 3",
   "language": "python",
   "name": "python3"
  },
  "language_info": {
   "codemirror_mode": {
    "name": "ipython",
    "version": 3
   },
   "file_extension": ".py",
   "mimetype": "text/x-python",
   "name": "python",
   "nbconvert_exporter": "python",
   "pygments_lexer": "ipython3",
   "version": "3.5.6"
  }
 },
 "nbformat": 4,
 "nbformat_minor": 2
}
