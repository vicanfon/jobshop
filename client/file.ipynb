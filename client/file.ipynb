{
  "cells": [
    {
      "cell_type": "code",
      "execution_count": 3,
      "metadata": {
        "collapsed": true,
        "pycharm": {
          "is_executing": false
        }
      },
      "outputs": [
        {
          "name": "stderr",
          "text": [
            "UsageError: Line magic function `%` not found.\n"
          ],
          "output_type": "stream"
        }
      ],
      "source": "import pandas as pd\nOrders \u003d pd.read_csv(\"./client/data/Orders.csv\", delimiter\u003d\u0027,\u0027)\nRoutes \u003d pd.read_csv(\"./client/data/Routes.csv\", delimiter\u003d\u0027,\u0027)\nl2 \u003d pd.DataFrame([1,2,3],columns\u003d[\u0027event\u0027])\nl2[\u0027key\u0027]\u003d0\nRoutes[\u0027key\u0027]\u003d0\nRoutes[\u0027n_pasos\u0027] \u003d Routes.groupby(\u0027CodPieza\u0027)[\u0027CodPieza\u0027].transform(\u0027count\u0027)\nRoutes[\u0027n_pasos_restantes\u0027] \u003d Routes[\u0027n_pasos\u0027]\nRoutes[\u0027TTPreparacion\u0027] \u003d Routes.groupby(\u0027CodPieza\u0027)[\u0027TPreparacion\u0027].transform(\u0027sum\u0027)\nRoutes[\u0027TTUnitario\u0027] \u003d Routes.groupby(\u0027CodPieza\u0027)[\u0027TUnitario\u0027].transform(\u0027sum\u0027)\nOrders \u003d Orders.astype({\u0027IdPedido\u0027: \u0027int64\u0027})\n\nEvents \u003d Orders.join(Routes.set_index(\u0027CodPieza\u0027), on\u003d\u0027CodPieza\u0027).merge(l2,how\u003d\u0027outer\u0027,on\u003d\u0027key\u0027).drop(\u0027key\u0027,axis\u003d1)\n# Events \u003d Events.merge(l2,how\u003d\u0027outer\u0027,on\u003d\u0027key\u0027).drop(\u0027key\u0027,axis\u003d1)\nEvents[\u0027indexEvent\u0027] \u003d Events[\u0027IdPedido\u0027].astype(str) + \"_\" + Events[\u0027Fase\u0027].astype(str)\nEvents[\u0027executed\u0027] \u003d False\nEvents \u003d Events.set_index(\u0027indexEvent\u0027).rename(columns\u003d{\u0027FechaPedido\u0027: \u0027TEvent\u0027})\nEvents.loc[:, \u0027TEvent\u0027] \u003d pd.to_datetime(Events.loc[:, \u0027TEvent\u0027])\nEvents[\u0027TiempoProcesamiento\u0027] \u003d Events[\u0027TPreparacion\u0027] + Events[\u0027TUnitario\u0027] * \\\n                                                Events[\u0027Lote\u0027]\nEvents[\u0027TiempoOcupacion\u0027] \u003d Events[\u0027TTPreparacion\u0027] + Events[\u0027TTUnitario\u0027] * \\\n                                                Events[\u0027Lote\u0027]\nEvents[\u0027TiempoRestante\u0027] \u003d Events[\u0027TiempoOcupacion\u0027]\nEvents[\u0027FechaCola\u0027] \u003d pd.Timestamp(\u00271978-01-01\u0027)\n\n\n"
    }
  ],
  "metadata": {
    "language_info": {
      "codemirror_mode": {
        "name": "ipython",
        "version": 2
      },
      "file_extension": ".py",
      "mimetype": "text/x-python",
      "name": "python",
      "nbconvert_exporter": "python",
      "pygments_lexer": "ipython2",
      "version": "2.7.6"
    },
    "kernelspec": {
      "name": "python3",
      "language": "python",
      "display_name": "Python 3"
    }
  },
  "nbformat": 4,
  "nbformat_minor": 0
}