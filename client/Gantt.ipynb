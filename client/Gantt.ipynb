{
 "cells": [
  {
   "cell_type": "code",
   "execution_count": 132,
   "metadata": {},
   "outputs": [
    {
     "data": {
      "text/html": [
       "<iframe id=\"igraph\" scrolling=\"no\" style=\"border:none;\" seamless=\"seamless\" src=\"https://plot.ly/~vicanfon/6.embed\" height=\"600px\" width=\"900px\"></iframe>"
      ],
      "text/plain": [
       "<plotly.tools.PlotlyDisplay object>"
      ]
     },
     "execution_count": 132,
     "metadata": {},
     "output_type": "execute_result"
    }
   ],
   "source": [
    "import plotly.plotly as py\n",
    "import plotly.figure_factory as ff\n",
    "import pandas as pd\n",
    "from random import uniform\n",
    "\n",
    "dft=pd.read_excel('outputNN.xlsx')\n",
    "dft=dft[dft['event']==2]\n",
    "dft['TEvent']=pd.to_datetime(dft['TEvent'])\n",
    "dft['Finish']= pd.to_datetime(dft['TEvent'] + pd.to_timedelta(dft['TPreparacion'] + dft['Lote'] * dft['TUnitario'], unit='m')).astype(\"datetime64[s]\")\n",
    "dfp=dft[['CodMaquina','TEvent','Finish','CodPieza']]\n",
    "dfp = dfp.rename(columns={'CodMaquina': 'Task', 'TEvent': 'Start', 'CodPieza': 'Resource'}).reset_index(drop=True)\n",
    "\n",
    "products=pd.read_csv('./data/Products.csv')\n",
    "colors = {v['CodPieza']: (uniform(0, 1),uniform(0, 1),uniform(0, 1)) for k,v in products.iterrows()}\n",
    "tnames = [v['CodPieza']for k,v in products.iterrows()]\n",
    "\n",
    "fig = ff.create_gantt(dfp, title='Schedule', colors=colors, index_col='Resource', show_colorbar=True, showgrid_x=True, showgrid_y=True, group_tasks=True)\n",
    "py.iplot(fig, filename='gantt-hours-minutes', world_readable=True)"
   ]
  },
  {
   "cell_type": "code",
   "execution_count": null,
   "metadata": {},
   "outputs": [],
   "source": []
  }
 ],
 "metadata": {
  "kernelspec": {
   "display_name": "Python 3",
   "language": "python",
   "name": "python3"
  },
  "language_info": {
   "codemirror_mode": {
    "name": "ipython",
    "version": 3
   },
   "file_extension": ".py",
   "mimetype": "text/x-python",
   "name": "python",
   "nbconvert_exporter": "python",
   "pygments_lexer": "ipython3",
   "version": "3.5.6"
  }
 },
 "nbformat": 4,
 "nbformat_minor": 1
}
