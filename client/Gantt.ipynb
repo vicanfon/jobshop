{
  "cells": [
    {
      "cell_type": "code",
      "execution_count": 1,
      "metadata": {
        "collapsed": true,
        "pycharm": {}
      },
      "outputs": [
        {
          "data": {
            "text/html": "\u003ciframe id\u003d\"igraph\" scrolling\u003d\"no\" style\u003d\"border:none;\" seamless\u003d\"seamless\" src\u003d\"https://plot.ly/~vicanfon/6.embed\" height\u003d\"600px\" width\u003d\"900px\"\u003e\u003c/iframe\u003e",
            "text/plain": "\u003cplotly.tools.PlotlyDisplay object\u003e"
          },
          "metadata": {},
          "output_type": "execute_result",
          "execution_count": 1
        }
      ],
      "source": [
        "import plotly.plotly as py\n",
        "import plotly.figure_factory as ff\n",
        "import pandas as pd\n",
        "from random import uniform\n",
        "import os, sys\n",
        "\n",
        "# plotly.tools.set_credentials_file(username\u003d\u0027########\u0027,                                              \n",
        "#                                   api_key\u003d\u0027******\u0027)\n",
        "\n",
        "dft\u003dpd.read_excel(\u0027./jobshop/client/outputNN.xlsx\u0027)\n",
        "dft\u003ddft[dft[\u0027event\u0027]\u003d\u003d2]\n",
        "dft[\u0027TEvent\u0027]\u003dpd.to_datetime(dft[\u0027TEvent\u0027])\n",
        "dft[\u0027Finish\u0027]\u003d pd.to_datetime(dft[\u0027TEvent\u0027] + pd.to_timedelta(dft[\u0027TPreparacion\u0027] + dft[\u0027Lote\u0027] * dft[\u0027TUnitario\u0027], unit\u003d\u0027m\u0027)).astype(\"datetime64[s]\")\n",
        "dfp\u003ddft[[\u0027CodMaquina\u0027,\u0027TEvent\u0027,\u0027Finish\u0027,\u0027CodPieza\u0027]]\n",
        "dfp \u003d dfp.rename(columns\u003d{\u0027CodMaquina\u0027: \u0027Task\u0027, \u0027TEvent\u0027: \u0027Start\u0027, \u0027CodPieza\u0027: \u0027Resource\u0027}).reset_index(drop\u003dTrue)\n",
        "\n",
        "products\u003dpd.read_csv(\u0027./jobshop/client/data/Products.csv\u0027)\n",
        "colors \u003d {v[\u0027CodPieza\u0027]: (uniform(0, 1),uniform(0, 1),uniform(0, 1)) for k,v in products.iterrows()}\n",
        "tnames \u003d [v[\u0027CodPieza\u0027]for k,v in products.iterrows()]\n",
        "\n",
        "fig \u003d ff.create_gantt(dfp, title\u003d\u0027Schedule\u0027, colors\u003dcolors, index_col\u003d\u0027Resource\u0027, show_colorbar\u003dTrue, showgrid_x\u003dTrue, showgrid_y\u003dTrue, group_tasks\u003dTrue)\n",
        "py.iplot(fig, filename\u003d\u0027gantt-hours-minutes\u0027, world_readable\u003dTrue)"
      ]
    },
    {
      "cell_type": "code",
      "execution_count": 1,
      "metadata": {
        "pycharm": {}
      },
      "outputs": [
        {
          "data": {
            "text/plain": "\u0027C:\\\\Users\\\\vanay\\\\OneDrive\\\\code\\\\python\\\\jobshop\u0027"
          },
          "metadata": {},
          "output_type": "execute_result",
          "execution_count": 1
        }
      ],
      "source": [
        "import os, sys\n",
        "os.getcwd()"
      ]
    }
  ],
  "metadata": {
    "kernelspec": {
      "display_name": "Python 3",
      "language": "python",
      "name": "python3"
    },
    "language_info": {
      "codemirror_mode": {
        "name": "ipython",
        "version": 3
      },
      "file_extension": ".py",
      "mimetype": "text/x-python",
      "name": "python",
      "nbconvert_exporter": "python",
      "pygments_lexer": "ipython3",
      "version": "3.5.6"
    }
  },
  "nbformat": 4,
  "nbformat_minor": 1
}