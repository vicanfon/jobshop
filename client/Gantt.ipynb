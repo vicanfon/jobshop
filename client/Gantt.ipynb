{
  "cells": [
    {
      "cell_type": "code",
      "execution_count": 1,
      "metadata": {
        "collapsed": true,
        "pycharm": {}
      },
      "outputs": [
        {
          "name": "stderr",
          "text": [
            "C:\\Users\\vanay\\AppData\\Local\\conda\\conda\\envs\\gym\\lib\\site-packages\\IPython\\core\\display.py:689: UserWarning:\n\nConsider using IPython.display.IFrame instead\n\n"
          ],
          "output_type": "stream"
        },
        {
          "data": {
            "text/plain": "\u003cplotly.tools.PlotlyDisplay object\u003e",
            "text/html": "\u003ciframe id\u003d\"igraph\" scrolling\u003d\"no\" style\u003d\"border:none;\" seamless\u003d\"seamless\" src\u003d\"https://plot.ly/~vicanfon/8.embed\" height\u003d\"600px\" width\u003d\"900px\"\u003e\u003c/iframe\u003e"
          },
          "metadata": {},
          "output_type": "execute_result",
          "execution_count": 1
        }
      ],
      "source": "import plotly.plotly as py\nimport plotly\nimport plotly.figure_factory as ff\nimport pandas as pd\nfrom random import uniform\nimport os, sys\n\nplotly.tools.set_credentials_file(username\u003d\u0027vicanfon\u0027,api_key\u003d\u0027EPLSyrbDlpwkQ9B3gQmO\u0027)\n\ndft\u003dpd.read_excel(\u0027./client/outputNN.xlsx\u0027)\ndf_Routes\u003dpd.read_csv(\u0027./client/data/Routes.csv\u0027)\ndf_Orders\u003dpd.read_csv(\u0027./client/data/Orders.csv\u0027)\ndft\u003ddft[dft[\u0027event\u0027]\u003d\u003d2]\ndft\u003ddft.join(df_Orders.set_index(\u0027IdPedido\u0027), on\u003d\u0027IdPedido\u0027).merge(df_Routes, left_on\u003d[\u0027CodPieza\u0027,\u0027Fase\u0027], right_on\u003d[\u0027CodPieza\u0027,\u0027Fase\u0027]).copy(deep\u003dTrue)\ndft[\u0027TEvent\u0027]\u003dpd.to_datetime(dft[\u0027TEvent\u0027])\ndft[\u0027Finish\u0027]\u003d pd.to_datetime(dft[\u0027TEvent\u0027] + pd.to_timedelta(dft[\u0027TPreparacion\u0027] + dft[\u0027Lote\u0027] * dft[\u0027TUnitario\u0027], unit\u003d\u0027m\u0027)).astype(\"datetime64[s]\")\ndfp\u003ddft[[\u0027CodMaquina\u0027,\u0027TEvent\u0027,\u0027Finish\u0027,\u0027CodPieza\u0027]]\ndfp \u003d dfp.rename(columns\u003d{\u0027CodMaquina\u0027: \u0027Task\u0027, \u0027TEvent\u0027: \u0027Start\u0027, \u0027CodPieza\u0027: \u0027Resource\u0027}).reset_index(drop\u003dTrue)\n\nproducts\u003dpd.read_csv(\u0027./client/data/Products.csv\u0027)\ncolors \u003d {v[\u0027CodPieza\u0027]: (uniform(0, 1),uniform(0, 1),uniform(0, 1)) for k,v in products.iterrows()}\ntnames \u003d [v[\u0027CodPieza\u0027]for k,v in products.iterrows()]\n\nfig \u003d ff.create_gantt(dfp, title\u003d\u0027Schedule\u0027, colors\u003dcolors, index_col\u003d\u0027Resource\u0027, show_colorbar\u003dTrue, showgrid_x\u003dTrue, showgrid_y\u003dTrue, group_tasks\u003dTrue)\npy.iplot(fig, filename\u003d\u0027gantt-hours-minutes\u0027, world_readable\u003dTrue)"
    },
    {
      "cell_type": "code",
      "execution_count": 2,
      "metadata": {
        "pycharm": {}
      },
      "outputs": [
        {
          "data": {
            "text/plain": "\u0027C:\\\\Users\\\\vanay\\\\PycharmProjects\\\\jobshop\u0027"
          },
          "metadata": {},
          "output_type": "execute_result",
          "execution_count": 2
        }
      ],
      "source": [
        "import os, sys\n",
        "os.getcwd()"
      ]
    }
  ],
  "metadata": {
    "kernelspec": {
      "name": "pycharm-8e67d405",
      "language": "python",
      "display_name": "PyCharm (jobshop)"
    },
    "language_info": {
      "codemirror_mode": {
        "name": "ipython",
        "version": 3
      },
      "file_extension": ".py",
      "mimetype": "text/x-python",
      "name": "python",
      "nbconvert_exporter": "python",
      "pygments_lexer": "ipython3",
      "version": "3.5.6"
    }
  },
  "nbformat": 4,
  "nbformat_minor": 1
}